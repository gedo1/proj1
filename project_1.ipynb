{
 "metadata": {
  "language_info": {
   "codemirror_mode": {
    "name": "ipython",
    "version": 3
   },
   "file_extension": ".py",
   "mimetype": "text/x-python",
   "name": "python",
   "nbconvert_exporter": "python",
   "pygments_lexer": "ipython3",
   "version": "3.7.2-final"
  },
  "orig_nbformat": 2,
  "kernelspec": {
   "name": "python3",
   "display_name": "Python 3"
  }
 },
 "nbformat": 4,
 "nbformat_minor": 2,
 "cells": [
  {
   "source": [
    "# 1. Introduction\n",
    "Using Python and its libraries, you will gather data from a variety of sources and in a variety of formats, assess its quality and tidiness, then clean it."
   ],
   "cell_type": "markdown",
   "metadata": {}
  },
  {
   "cell_type": "code",
   "execution_count": 23,
   "metadata": {},
   "outputs": [],
   "source": [
    "import pandas as pd\n",
    "import numpy as np\n",
    "import matplotlib as plt\n",
    "import json\n",
    "import re\n",
    "import requests\n",
    "import csv"
   ]
  },
  {
   "source": [
    "# 2. Gather Data \n",
    "    Gather Data 1 : archive tweets given by Kaggle ( imdb - review )\n",
    "   "
   ],
   "cell_type": "markdown",
   "metadata": {}
  },
  {
   "cell_type": "code",
   "execution_count": 25,
   "metadata": {},
   "outputs": [],
   "source": [
    "df = pd.read_csv(\"tmdb-movies.csv\" , sep=\",\")"
   ]
  },
  {
   "source": [
    "# 3. Assess Data \n"
   ],
   "cell_type": "markdown",
   "metadata": {}
  },
  {
   "source": [
    "### 3.1.1 VIsual Assessment \n"
   ],
   "cell_type": "markdown",
   "metadata": {}
  },
  {
   "cell_type": "code",
   "execution_count": 26,
   "metadata": {},
   "outputs": [
    {
     "output_type": "execute_result",
     "data": {
      "text/plain": [
       "       id    imdb_id  popularity     budget     revenue  \\\n",
       "0  135397  tt0369610   32.985763  150000000  1513528810   \n",
       "1   76341  tt1392190   28.419936  150000000   378436354   \n",
       "2  262500  tt2908446   13.112507  110000000   295238201   \n",
       "3  140607  tt2488496   11.173104  200000000  2068178225   \n",
       "4  168259  tt2820852    9.335014  190000000  1506249360   \n",
       "\n",
       "                 original_title  \\\n",
       "0                Jurassic World   \n",
       "1            Mad Max: Fury Road   \n",
       "2                     Insurgent   \n",
       "3  Star Wars: The Force Awakens   \n",
       "4                     Furious 7   \n",
       "\n",
       "                                                cast  \\\n",
       "0  Chris Pratt|Bryce Dallas Howard|Irrfan Khan|Vi...   \n",
       "1  Tom Hardy|Charlize Theron|Hugh Keays-Byrne|Nic...   \n",
       "2  Shailene Woodley|Theo James|Kate Winslet|Ansel...   \n",
       "3  Harrison Ford|Mark Hamill|Carrie Fisher|Adam D...   \n",
       "4  Vin Diesel|Paul Walker|Jason Statham|Michelle ...   \n",
       "\n",
       "                                            homepage          director  \\\n",
       "0                      http://www.jurassicworld.com/   Colin Trevorrow   \n",
       "1                        http://www.madmaxmovie.com/     George Miller   \n",
       "2     http://www.thedivergentseries.movie/#insurgent  Robert Schwentke   \n",
       "3  http://www.starwars.com/films/star-wars-episod...       J.J. Abrams   \n",
       "4                           http://www.furious7.com/         James Wan   \n",
       "\n",
       "                         tagline  ...  \\\n",
       "0              The park is open.  ...   \n",
       "1             What a Lovely Day.  ...   \n",
       "2     One Choice Can Destroy You  ...   \n",
       "3  Every generation has a story.  ...   \n",
       "4            Vengeance Hits Home  ...   \n",
       "\n",
       "                                            overview runtime  \\\n",
       "0  Twenty-two years after the events of Jurassic ...     124   \n",
       "1  An apocalyptic story set in the furthest reach...     120   \n",
       "2  Beatrice Prior must confront her inner demons ...     119   \n",
       "3  Thirty years after defeating the Galactic Empi...     136   \n",
       "4  Deckard Shaw seeks revenge against Dominic Tor...     137   \n",
       "\n",
       "                                      genres  \\\n",
       "0  Action|Adventure|Science Fiction|Thriller   \n",
       "1  Action|Adventure|Science Fiction|Thriller   \n",
       "2         Adventure|Science Fiction|Thriller   \n",
       "3   Action|Adventure|Science Fiction|Fantasy   \n",
       "4                      Action|Crime|Thriller   \n",
       "\n",
       "                                production_companies release_date vote_count  \\\n",
       "0  Universal Studios|Amblin Entertainment|Legenda...       6/9/15       5562   \n",
       "1  Village Roadshow Pictures|Kennedy Miller Produ...      5/13/15       6185   \n",
       "2  Summit Entertainment|Mandeville Films|Red Wago...      3/18/15       2480   \n",
       "3          Lucasfilm|Truenorth Productions|Bad Robot     12/15/15       5292   \n",
       "4  Universal Pictures|Original Film|Media Rights ...       4/1/15       2947   \n",
       "\n",
       "   vote_average  release_year    budget_adj   revenue_adj  \n",
       "0           6.5          2015  1.379999e+08  1.392446e+09  \n",
       "1           7.1          2015  1.379999e+08  3.481613e+08  \n",
       "2           6.3          2015  1.012000e+08  2.716190e+08  \n",
       "3           7.5          2015  1.839999e+08  1.902723e+09  \n",
       "4           7.3          2015  1.747999e+08  1.385749e+09  \n",
       "\n",
       "[5 rows x 21 columns]"
      ],
      "text/html": "<div>\n<style scoped>\n    .dataframe tbody tr th:only-of-type {\n        vertical-align: middle;\n    }\n\n    .dataframe tbody tr th {\n        vertical-align: top;\n    }\n\n    .dataframe thead th {\n        text-align: right;\n    }\n</style>\n<table border=\"1\" class=\"dataframe\">\n  <thead>\n    <tr style=\"text-align: right;\">\n      <th></th>\n      <th>id</th>\n      <th>imdb_id</th>\n      <th>popularity</th>\n      <th>budget</th>\n      <th>revenue</th>\n      <th>original_title</th>\n      <th>cast</th>\n      <th>homepage</th>\n      <th>director</th>\n      <th>tagline</th>\n      <th>...</th>\n      <th>overview</th>\n      <th>runtime</th>\n      <th>genres</th>\n      <th>production_companies</th>\n      <th>release_date</th>\n      <th>vote_count</th>\n      <th>vote_average</th>\n      <th>release_year</th>\n      <th>budget_adj</th>\n      <th>revenue_adj</th>\n    </tr>\n  </thead>\n  <tbody>\n    <tr>\n      <th>0</th>\n      <td>135397</td>\n      <td>tt0369610</td>\n      <td>32.985763</td>\n      <td>150000000</td>\n      <td>1513528810</td>\n      <td>Jurassic World</td>\n      <td>Chris Pratt|Bryce Dallas Howard|Irrfan Khan|Vi...</td>\n      <td>http://www.jurassicworld.com/</td>\n      <td>Colin Trevorrow</td>\n      <td>The park is open.</td>\n      <td>...</td>\n      <td>Twenty-two years after the events of Jurassic ...</td>\n      <td>124</td>\n      <td>Action|Adventure|Science Fiction|Thriller</td>\n      <td>Universal Studios|Amblin Entertainment|Legenda...</td>\n      <td>6/9/15</td>\n      <td>5562</td>\n      <td>6.5</td>\n      <td>2015</td>\n      <td>1.379999e+08</td>\n      <td>1.392446e+09</td>\n    </tr>\n    <tr>\n      <th>1</th>\n      <td>76341</td>\n      <td>tt1392190</td>\n      <td>28.419936</td>\n      <td>150000000</td>\n      <td>378436354</td>\n      <td>Mad Max: Fury Road</td>\n      <td>Tom Hardy|Charlize Theron|Hugh Keays-Byrne|Nic...</td>\n      <td>http://www.madmaxmovie.com/</td>\n      <td>George Miller</td>\n      <td>What a Lovely Day.</td>\n      <td>...</td>\n      <td>An apocalyptic story set in the furthest reach...</td>\n      <td>120</td>\n      <td>Action|Adventure|Science Fiction|Thriller</td>\n      <td>Village Roadshow Pictures|Kennedy Miller Produ...</td>\n      <td>5/13/15</td>\n      <td>6185</td>\n      <td>7.1</td>\n      <td>2015</td>\n      <td>1.379999e+08</td>\n      <td>3.481613e+08</td>\n    </tr>\n    <tr>\n      <th>2</th>\n      <td>262500</td>\n      <td>tt2908446</td>\n      <td>13.112507</td>\n      <td>110000000</td>\n      <td>295238201</td>\n      <td>Insurgent</td>\n      <td>Shailene Woodley|Theo James|Kate Winslet|Ansel...</td>\n      <td>http://www.thedivergentseries.movie/#insurgent</td>\n      <td>Robert Schwentke</td>\n      <td>One Choice Can Destroy You</td>\n      <td>...</td>\n      <td>Beatrice Prior must confront her inner demons ...</td>\n      <td>119</td>\n      <td>Adventure|Science Fiction|Thriller</td>\n      <td>Summit Entertainment|Mandeville Films|Red Wago...</td>\n      <td>3/18/15</td>\n      <td>2480</td>\n      <td>6.3</td>\n      <td>2015</td>\n      <td>1.012000e+08</td>\n      <td>2.716190e+08</td>\n    </tr>\n    <tr>\n      <th>3</th>\n      <td>140607</td>\n      <td>tt2488496</td>\n      <td>11.173104</td>\n      <td>200000000</td>\n      <td>2068178225</td>\n      <td>Star Wars: The Force Awakens</td>\n      <td>Harrison Ford|Mark Hamill|Carrie Fisher|Adam D...</td>\n      <td>http://www.starwars.com/films/star-wars-episod...</td>\n      <td>J.J. Abrams</td>\n      <td>Every generation has a story.</td>\n      <td>...</td>\n      <td>Thirty years after defeating the Galactic Empi...</td>\n      <td>136</td>\n      <td>Action|Adventure|Science Fiction|Fantasy</td>\n      <td>Lucasfilm|Truenorth Productions|Bad Robot</td>\n      <td>12/15/15</td>\n      <td>5292</td>\n      <td>7.5</td>\n      <td>2015</td>\n      <td>1.839999e+08</td>\n      <td>1.902723e+09</td>\n    </tr>\n    <tr>\n      <th>4</th>\n      <td>168259</td>\n      <td>tt2820852</td>\n      <td>9.335014</td>\n      <td>190000000</td>\n      <td>1506249360</td>\n      <td>Furious 7</td>\n      <td>Vin Diesel|Paul Walker|Jason Statham|Michelle ...</td>\n      <td>http://www.furious7.com/</td>\n      <td>James Wan</td>\n      <td>Vengeance Hits Home</td>\n      <td>...</td>\n      <td>Deckard Shaw seeks revenge against Dominic Tor...</td>\n      <td>137</td>\n      <td>Action|Crime|Thriller</td>\n      <td>Universal Pictures|Original Film|Media Rights ...</td>\n      <td>4/1/15</td>\n      <td>2947</td>\n      <td>7.3</td>\n      <td>2015</td>\n      <td>1.747999e+08</td>\n      <td>1.385749e+09</td>\n    </tr>\n  </tbody>\n</table>\n<p>5 rows × 21 columns</p>\n</div>"
     },
     "metadata": {},
     "execution_count": 26
    }
   ],
   "source": [
    "df.head()"
   ]
  },
  {
   "source": [
    "### 3.1.2 Programatic Assessment \n"
   ],
   "cell_type": "markdown",
   "metadata": {}
  },
  {
   "cell_type": "code",
   "execution_count": 27,
   "metadata": {},
   "outputs": [
    {
     "output_type": "execute_result",
     "data": {
      "text/plain": [
       "                  id    popularity        budget       revenue       runtime  \\\n",
       "count   10866.000000  10866.000000  1.086600e+04  1.086600e+04  10866.000000   \n",
       "mean    66064.177434      0.646441  1.462570e+07  3.982332e+07    102.070863   \n",
       "std     92130.136561      1.000185  3.091321e+07  1.170035e+08     31.381405   \n",
       "min         5.000000      0.000065  0.000000e+00  0.000000e+00      0.000000   \n",
       "25%     10596.250000      0.207583  0.000000e+00  0.000000e+00     90.000000   \n",
       "50%     20669.000000      0.383856  0.000000e+00  0.000000e+00     99.000000   \n",
       "75%     75610.000000      0.713817  1.500000e+07  2.400000e+07    111.000000   \n",
       "max    417859.000000     32.985763  4.250000e+08  2.781506e+09    900.000000   \n",
       "\n",
       "         vote_count  vote_average  release_year    budget_adj   revenue_adj  \n",
       "count  10866.000000  10866.000000  10866.000000  1.086600e+04  1.086600e+04  \n",
       "mean     217.389748      5.974922   2001.322658  1.755104e+07  5.136436e+07  \n",
       "std      575.619058      0.935142     12.812941  3.430616e+07  1.446325e+08  \n",
       "min       10.000000      1.500000   1960.000000  0.000000e+00  0.000000e+00  \n",
       "25%       17.000000      5.400000   1995.000000  0.000000e+00  0.000000e+00  \n",
       "50%       38.000000      6.000000   2006.000000  0.000000e+00  0.000000e+00  \n",
       "75%      145.750000      6.600000   2011.000000  2.085325e+07  3.369710e+07  \n",
       "max     9767.000000      9.200000   2015.000000  4.250000e+08  2.827124e+09  "
      ],
      "text/html": "<div>\n<style scoped>\n    .dataframe tbody tr th:only-of-type {\n        vertical-align: middle;\n    }\n\n    .dataframe tbody tr th {\n        vertical-align: top;\n    }\n\n    .dataframe thead th {\n        text-align: right;\n    }\n</style>\n<table border=\"1\" class=\"dataframe\">\n  <thead>\n    <tr style=\"text-align: right;\">\n      <th></th>\n      <th>id</th>\n      <th>popularity</th>\n      <th>budget</th>\n      <th>revenue</th>\n      <th>runtime</th>\n      <th>vote_count</th>\n      <th>vote_average</th>\n      <th>release_year</th>\n      <th>budget_adj</th>\n      <th>revenue_adj</th>\n    </tr>\n  </thead>\n  <tbody>\n    <tr>\n      <th>count</th>\n      <td>10866.000000</td>\n      <td>10866.000000</td>\n      <td>1.086600e+04</td>\n      <td>1.086600e+04</td>\n      <td>10866.000000</td>\n      <td>10866.000000</td>\n      <td>10866.000000</td>\n      <td>10866.000000</td>\n      <td>1.086600e+04</td>\n      <td>1.086600e+04</td>\n    </tr>\n    <tr>\n      <th>mean</th>\n      <td>66064.177434</td>\n      <td>0.646441</td>\n      <td>1.462570e+07</td>\n      <td>3.982332e+07</td>\n      <td>102.070863</td>\n      <td>217.389748</td>\n      <td>5.974922</td>\n      <td>2001.322658</td>\n      <td>1.755104e+07</td>\n      <td>5.136436e+07</td>\n    </tr>\n    <tr>\n      <th>std</th>\n      <td>92130.136561</td>\n      <td>1.000185</td>\n      <td>3.091321e+07</td>\n      <td>1.170035e+08</td>\n      <td>31.381405</td>\n      <td>575.619058</td>\n      <td>0.935142</td>\n      <td>12.812941</td>\n      <td>3.430616e+07</td>\n      <td>1.446325e+08</td>\n    </tr>\n    <tr>\n      <th>min</th>\n      <td>5.000000</td>\n      <td>0.000065</td>\n      <td>0.000000e+00</td>\n      <td>0.000000e+00</td>\n      <td>0.000000</td>\n      <td>10.000000</td>\n      <td>1.500000</td>\n      <td>1960.000000</td>\n      <td>0.000000e+00</td>\n      <td>0.000000e+00</td>\n    </tr>\n    <tr>\n      <th>25%</th>\n      <td>10596.250000</td>\n      <td>0.207583</td>\n      <td>0.000000e+00</td>\n      <td>0.000000e+00</td>\n      <td>90.000000</td>\n      <td>17.000000</td>\n      <td>5.400000</td>\n      <td>1995.000000</td>\n      <td>0.000000e+00</td>\n      <td>0.000000e+00</td>\n    </tr>\n    <tr>\n      <th>50%</th>\n      <td>20669.000000</td>\n      <td>0.383856</td>\n      <td>0.000000e+00</td>\n      <td>0.000000e+00</td>\n      <td>99.000000</td>\n      <td>38.000000</td>\n      <td>6.000000</td>\n      <td>2006.000000</td>\n      <td>0.000000e+00</td>\n      <td>0.000000e+00</td>\n    </tr>\n    <tr>\n      <th>75%</th>\n      <td>75610.000000</td>\n      <td>0.713817</td>\n      <td>1.500000e+07</td>\n      <td>2.400000e+07</td>\n      <td>111.000000</td>\n      <td>145.750000</td>\n      <td>6.600000</td>\n      <td>2011.000000</td>\n      <td>2.085325e+07</td>\n      <td>3.369710e+07</td>\n    </tr>\n    <tr>\n      <th>max</th>\n      <td>417859.000000</td>\n      <td>32.985763</td>\n      <td>4.250000e+08</td>\n      <td>2.781506e+09</td>\n      <td>900.000000</td>\n      <td>9767.000000</td>\n      <td>9.200000</td>\n      <td>2015.000000</td>\n      <td>4.250000e+08</td>\n      <td>2.827124e+09</td>\n    </tr>\n  </tbody>\n</table>\n</div>"
     },
     "metadata": {},
     "execution_count": 27
    }
   ],
   "source": [
    "df.describe()"
   ]
  },
  {
   "cell_type": "code",
   "execution_count": 28,
   "metadata": {},
   "outputs": [
    {
     "output_type": "stream",
     "name": "stdout",
     "text": [
      "<class 'pandas.core.frame.DataFrame'>\nRangeIndex: 10866 entries, 0 to 10865\nData columns (total 21 columns):\nid                      10866 non-null int64\nimdb_id                 10856 non-null object\npopularity              10866 non-null float64\nbudget                  10866 non-null int64\nrevenue                 10866 non-null int64\noriginal_title          10866 non-null object\ncast                    10790 non-null object\nhomepage                2936 non-null object\ndirector                10822 non-null object\ntagline                 8042 non-null object\nkeywords                9373 non-null object\noverview                10862 non-null object\nruntime                 10866 non-null int64\ngenres                  10843 non-null object\nproduction_companies    9836 non-null object\nrelease_date            10866 non-null object\nvote_count              10866 non-null int64\nvote_average            10866 non-null float64\nrelease_year            10866 non-null int64\nbudget_adj              10866 non-null float64\nrevenue_adj             10866 non-null float64\ndtypes: float64(4), int64(6), object(11)\nmemory usage: 1.7+ MB\n"
     ]
    }
   ],
   "source": [
    "df.info()"
   ]
  },
  {
   "source": [
    "### 3.1.3 Issues List\n",
    "### - Date and time format ( release Date )\n",
    "### - Remove duplicates\n",
    "### - missing data\n",
    "### - Drop unimportant columns\n",
    "### - Each variable forms a column.\n",
    "### - Each observation forms a row.\n",
    "### - Each type of observational unit forms a table."
   ],
   "cell_type": "markdown",
   "metadata": {}
  },
  {
   "source": [
    "# 4. Cleaning"
   ],
   "cell_type": "markdown",
   "metadata": {}
  },
  {
   "cell_type": "code",
   "execution_count": 29,
   "metadata": {},
   "outputs": [],
   "source": [
    "# Create Cleaning copies \n",
    "df_clean = df.copy()"
   ]
  },
  {
   "source": [
    "### 4.1.1 Define \n",
    "### clear missing data\n",
    "### - Date and time format\n",
    "### - Remove duplicates\n",
    "### - Drop unimportant columns"
   ],
   "cell_type": "markdown",
   "metadata": {}
  },
  {
   "source": [
    "### 4.1.2 Clean"
   ],
   "cell_type": "markdown",
   "metadata": {}
  },
  {
   "cell_type": "code",
   "execution_count": 31,
   "metadata": {},
   "outputs": [],
   "source": [
    "# Adjust Date and Time format\n",
    "df_clean.release_date = pd.to_datetime(df_clean.release_date)"
   ]
  },
  {
   "cell_type": "code",
   "execution_count": 32,
   "metadata": {},
   "outputs": [],
   "source": [
    "# check for duplicates and drop them\n",
    "df_clean.drop_duplicates(subset =\"imdb_id\", keep = False, inplace = True)"
   ]
  },
  {
   "cell_type": "code",
   "execution_count": null,
   "metadata": {},
   "outputs": [],
   "source": [
    "# Drop unimportant columns\n",
    "df_clean = df_clean.drop(columns=['budget'])"
   ]
  },
  {
   "source": [
    "### 4.1.3 Test"
   ],
   "cell_type": "markdown",
   "metadata": {}
  },
  {
   "cell_type": "code",
   "execution_count": 33,
   "metadata": {},
   "outputs": [
    {
     "output_type": "stream",
     "name": "stdout",
     "text": [
      "<class 'pandas.core.frame.DataFrame'>\nInt64Index: 10854 entries, 0 to 10865\nData columns (total 21 columns):\nid                      10854 non-null int64\nimdb_id                 10854 non-null object\npopularity              10854 non-null float64\nbudget                  10854 non-null int64\nrevenue                 10854 non-null int64\noriginal_title          10854 non-null object\ncast                    10778 non-null object\nhomepage                2934 non-null object\ndirector                10814 non-null object\ntagline                 8037 non-null object\nkeywords                9367 non-null object\noverview                10851 non-null object\nruntime                 10854 non-null int64\ngenres                  10833 non-null object\nproduction_companies    9829 non-null object\nrelease_date            10854 non-null datetime64[ns]\nvote_count              10854 non-null int64\nvote_average            10854 non-null float64\nrelease_year            10854 non-null int64\nbudget_adj              10854 non-null float64\nrevenue_adj             10854 non-null float64\ndtypes: datetime64[ns](1), float64(4), int64(6), object(10)\nmemory usage: 1.8+ MB\n"
     ]
    }
   ],
   "source": [
    "df_clean.info()"
   ]
  },
  {
   "cell_type": "code",
   "execution_count": 37,
   "metadata": {},
   "outputs": [
    {
     "output_type": "execute_result",
     "data": {
      "text/plain": [
       "         id    imdb_id  popularity    budget    revenue original_title  \\\n",
       "4200  10731  tt0109446    1.022699  45000000  117615211     The Client   \n",
       "\n",
       "                                                   cast homepage  \\\n",
       "4200  Susan Sarandon|Tommy Lee Jones|Mary-Louise Par...      NaN   \n",
       "\n",
       "             director                                            tagline  ...  \\\n",
       "4200  Joel Schumacher  A District Attorney Out For A Conviction. A Ne...  ...   \n",
       "\n",
       "                                               overview runtime  \\\n",
       "4200  A street-wise kid, Mark Sway, sees the suicide...     119   \n",
       "\n",
       "                            genres  \\\n",
       "4200  Drama|Thriller|Crime|Mystery   \n",
       "\n",
       "                              production_companies release_date vote_count  \\\n",
       "4200  Regency Enterprises|Alcor Films|Warner Bros.   1994-07-20        130   \n",
       "\n",
       "      vote_average  release_year    budget_adj   revenue_adj  \n",
       "4200           6.2          1994  6.620002e+07  1.730251e+08  \n",
       "\n",
       "[1 rows x 21 columns]"
      ],
      "text/html": "<div>\n<style scoped>\n    .dataframe tbody tr th:only-of-type {\n        vertical-align: middle;\n    }\n\n    .dataframe tbody tr th {\n        vertical-align: top;\n    }\n\n    .dataframe thead th {\n        text-align: right;\n    }\n</style>\n<table border=\"1\" class=\"dataframe\">\n  <thead>\n    <tr style=\"text-align: right;\">\n      <th></th>\n      <th>id</th>\n      <th>imdb_id</th>\n      <th>popularity</th>\n      <th>budget</th>\n      <th>revenue</th>\n      <th>original_title</th>\n      <th>cast</th>\n      <th>homepage</th>\n      <th>director</th>\n      <th>tagline</th>\n      <th>...</th>\n      <th>overview</th>\n      <th>runtime</th>\n      <th>genres</th>\n      <th>production_companies</th>\n      <th>release_date</th>\n      <th>vote_count</th>\n      <th>vote_average</th>\n      <th>release_year</th>\n      <th>budget_adj</th>\n      <th>revenue_adj</th>\n    </tr>\n  </thead>\n  <tbody>\n    <tr>\n      <th>4200</th>\n      <td>10731</td>\n      <td>tt0109446</td>\n      <td>1.022699</td>\n      <td>45000000</td>\n      <td>117615211</td>\n      <td>The Client</td>\n      <td>Susan Sarandon|Tommy Lee Jones|Mary-Louise Par...</td>\n      <td>NaN</td>\n      <td>Joel Schumacher</td>\n      <td>A District Attorney Out For A Conviction. A Ne...</td>\n      <td>...</td>\n      <td>A street-wise kid, Mark Sway, sees the suicide...</td>\n      <td>119</td>\n      <td>Drama|Thriller|Crime|Mystery</td>\n      <td>Regency Enterprises|Alcor Films|Warner Bros.</td>\n      <td>1994-07-20</td>\n      <td>130</td>\n      <td>6.2</td>\n      <td>1994</td>\n      <td>6.620002e+07</td>\n      <td>1.730251e+08</td>\n    </tr>\n  </tbody>\n</table>\n<p>1 rows × 21 columns</p>\n</div>"
     },
     "metadata": {},
     "execution_count": 37
    }
   ],
   "source": [
    "df_clean.sample()"
   ]
  },
  {
   "cell_type": "code",
   "execution_count": 38,
   "metadata": {},
   "outputs": [
    {
     "output_type": "execute_result",
     "data": {
      "text/plain": [
       "       id    imdb_id  popularity     budget     revenue  \\\n",
       "0  135397  tt0369610   32.985763  150000000  1513528810   \n",
       "1   76341  tt1392190   28.419936  150000000   378436354   \n",
       "2  262500  tt2908446   13.112507  110000000   295238201   \n",
       "3  140607  tt2488496   11.173104  200000000  2068178225   \n",
       "4  168259  tt2820852    9.335014  190000000  1506249360   \n",
       "\n",
       "                 original_title  \\\n",
       "0                Jurassic World   \n",
       "1            Mad Max: Fury Road   \n",
       "2                     Insurgent   \n",
       "3  Star Wars: The Force Awakens   \n",
       "4                     Furious 7   \n",
       "\n",
       "                                                cast  \\\n",
       "0  Chris Pratt|Bryce Dallas Howard|Irrfan Khan|Vi...   \n",
       "1  Tom Hardy|Charlize Theron|Hugh Keays-Byrne|Nic...   \n",
       "2  Shailene Woodley|Theo James|Kate Winslet|Ansel...   \n",
       "3  Harrison Ford|Mark Hamill|Carrie Fisher|Adam D...   \n",
       "4  Vin Diesel|Paul Walker|Jason Statham|Michelle ...   \n",
       "\n",
       "                                            homepage          director  \\\n",
       "0                      http://www.jurassicworld.com/   Colin Trevorrow   \n",
       "1                        http://www.madmaxmovie.com/     George Miller   \n",
       "2     http://www.thedivergentseries.movie/#insurgent  Robert Schwentke   \n",
       "3  http://www.starwars.com/films/star-wars-episod...       J.J. Abrams   \n",
       "4                           http://www.furious7.com/         James Wan   \n",
       "\n",
       "                         tagline  ...  \\\n",
       "0              The park is open.  ...   \n",
       "1             What a Lovely Day.  ...   \n",
       "2     One Choice Can Destroy You  ...   \n",
       "3  Every generation has a story.  ...   \n",
       "4            Vengeance Hits Home  ...   \n",
       "\n",
       "                                            overview runtime  \\\n",
       "0  Twenty-two years after the events of Jurassic ...     124   \n",
       "1  An apocalyptic story set in the furthest reach...     120   \n",
       "2  Beatrice Prior must confront her inner demons ...     119   \n",
       "3  Thirty years after defeating the Galactic Empi...     136   \n",
       "4  Deckard Shaw seeks revenge against Dominic Tor...     137   \n",
       "\n",
       "                                      genres  \\\n",
       "0  Action|Adventure|Science Fiction|Thriller   \n",
       "1  Action|Adventure|Science Fiction|Thriller   \n",
       "2         Adventure|Science Fiction|Thriller   \n",
       "3   Action|Adventure|Science Fiction|Fantasy   \n",
       "4                      Action|Crime|Thriller   \n",
       "\n",
       "                                production_companies release_date vote_count  \\\n",
       "0  Universal Studios|Amblin Entertainment|Legenda...   2015-06-09       5562   \n",
       "1  Village Roadshow Pictures|Kennedy Miller Produ...   2015-05-13       6185   \n",
       "2  Summit Entertainment|Mandeville Films|Red Wago...   2015-03-18       2480   \n",
       "3          Lucasfilm|Truenorth Productions|Bad Robot   2015-12-15       5292   \n",
       "4  Universal Pictures|Original Film|Media Rights ...   2015-04-01       2947   \n",
       "\n",
       "   vote_average  release_year    budget_adj   revenue_adj  \n",
       "0           6.5          2015  1.379999e+08  1.392446e+09  \n",
       "1           7.1          2015  1.379999e+08  3.481613e+08  \n",
       "2           6.3          2015  1.012000e+08  2.716190e+08  \n",
       "3           7.5          2015  1.839999e+08  1.902723e+09  \n",
       "4           7.3          2015  1.747999e+08  1.385749e+09  \n",
       "\n",
       "[5 rows x 21 columns]"
      ],
      "text/html": "<div>\n<style scoped>\n    .dataframe tbody tr th:only-of-type {\n        vertical-align: middle;\n    }\n\n    .dataframe tbody tr th {\n        vertical-align: top;\n    }\n\n    .dataframe thead th {\n        text-align: right;\n    }\n</style>\n<table border=\"1\" class=\"dataframe\">\n  <thead>\n    <tr style=\"text-align: right;\">\n      <th></th>\n      <th>id</th>\n      <th>imdb_id</th>\n      <th>popularity</th>\n      <th>budget</th>\n      <th>revenue</th>\n      <th>original_title</th>\n      <th>cast</th>\n      <th>homepage</th>\n      <th>director</th>\n      <th>tagline</th>\n      <th>...</th>\n      <th>overview</th>\n      <th>runtime</th>\n      <th>genres</th>\n      <th>production_companies</th>\n      <th>release_date</th>\n      <th>vote_count</th>\n      <th>vote_average</th>\n      <th>release_year</th>\n      <th>budget_adj</th>\n      <th>revenue_adj</th>\n    </tr>\n  </thead>\n  <tbody>\n    <tr>\n      <th>0</th>\n      <td>135397</td>\n      <td>tt0369610</td>\n      <td>32.985763</td>\n      <td>150000000</td>\n      <td>1513528810</td>\n      <td>Jurassic World</td>\n      <td>Chris Pratt|Bryce Dallas Howard|Irrfan Khan|Vi...</td>\n      <td>http://www.jurassicworld.com/</td>\n      <td>Colin Trevorrow</td>\n      <td>The park is open.</td>\n      <td>...</td>\n      <td>Twenty-two years after the events of Jurassic ...</td>\n      <td>124</td>\n      <td>Action|Adventure|Science Fiction|Thriller</td>\n      <td>Universal Studios|Amblin Entertainment|Legenda...</td>\n      <td>2015-06-09</td>\n      <td>5562</td>\n      <td>6.5</td>\n      <td>2015</td>\n      <td>1.379999e+08</td>\n      <td>1.392446e+09</td>\n    </tr>\n    <tr>\n      <th>1</th>\n      <td>76341</td>\n      <td>tt1392190</td>\n      <td>28.419936</td>\n      <td>150000000</td>\n      <td>378436354</td>\n      <td>Mad Max: Fury Road</td>\n      <td>Tom Hardy|Charlize Theron|Hugh Keays-Byrne|Nic...</td>\n      <td>http://www.madmaxmovie.com/</td>\n      <td>George Miller</td>\n      <td>What a Lovely Day.</td>\n      <td>...</td>\n      <td>An apocalyptic story set in the furthest reach...</td>\n      <td>120</td>\n      <td>Action|Adventure|Science Fiction|Thriller</td>\n      <td>Village Roadshow Pictures|Kennedy Miller Produ...</td>\n      <td>2015-05-13</td>\n      <td>6185</td>\n      <td>7.1</td>\n      <td>2015</td>\n      <td>1.379999e+08</td>\n      <td>3.481613e+08</td>\n    </tr>\n    <tr>\n      <th>2</th>\n      <td>262500</td>\n      <td>tt2908446</td>\n      <td>13.112507</td>\n      <td>110000000</td>\n      <td>295238201</td>\n      <td>Insurgent</td>\n      <td>Shailene Woodley|Theo James|Kate Winslet|Ansel...</td>\n      <td>http://www.thedivergentseries.movie/#insurgent</td>\n      <td>Robert Schwentke</td>\n      <td>One Choice Can Destroy You</td>\n      <td>...</td>\n      <td>Beatrice Prior must confront her inner demons ...</td>\n      <td>119</td>\n      <td>Adventure|Science Fiction|Thriller</td>\n      <td>Summit Entertainment|Mandeville Films|Red Wago...</td>\n      <td>2015-03-18</td>\n      <td>2480</td>\n      <td>6.3</td>\n      <td>2015</td>\n      <td>1.012000e+08</td>\n      <td>2.716190e+08</td>\n    </tr>\n    <tr>\n      <th>3</th>\n      <td>140607</td>\n      <td>tt2488496</td>\n      <td>11.173104</td>\n      <td>200000000</td>\n      <td>2068178225</td>\n      <td>Star Wars: The Force Awakens</td>\n      <td>Harrison Ford|Mark Hamill|Carrie Fisher|Adam D...</td>\n      <td>http://www.starwars.com/films/star-wars-episod...</td>\n      <td>J.J. Abrams</td>\n      <td>Every generation has a story.</td>\n      <td>...</td>\n      <td>Thirty years after defeating the Galactic Empi...</td>\n      <td>136</td>\n      <td>Action|Adventure|Science Fiction|Fantasy</td>\n      <td>Lucasfilm|Truenorth Productions|Bad Robot</td>\n      <td>2015-12-15</td>\n      <td>5292</td>\n      <td>7.5</td>\n      <td>2015</td>\n      <td>1.839999e+08</td>\n      <td>1.902723e+09</td>\n    </tr>\n    <tr>\n      <th>4</th>\n      <td>168259</td>\n      <td>tt2820852</td>\n      <td>9.335014</td>\n      <td>190000000</td>\n      <td>1506249360</td>\n      <td>Furious 7</td>\n      <td>Vin Diesel|Paul Walker|Jason Statham|Michelle ...</td>\n      <td>http://www.furious7.com/</td>\n      <td>James Wan</td>\n      <td>Vengeance Hits Home</td>\n      <td>...</td>\n      <td>Deckard Shaw seeks revenge against Dominic Tor...</td>\n      <td>137</td>\n      <td>Action|Crime|Thriller</td>\n      <td>Universal Pictures|Original Film|Media Rights ...</td>\n      <td>2015-04-01</td>\n      <td>2947</td>\n      <td>7.3</td>\n      <td>2015</td>\n      <td>1.747999e+08</td>\n      <td>1.385749e+09</td>\n    </tr>\n  </tbody>\n</table>\n<p>5 rows × 21 columns</p>\n</div>"
     },
     "metadata": {},
     "execution_count": 38
    }
   ],
   "source": [
    "df_clean.head()"
   ]
  },
  {
   "cell_type": "code",
   "execution_count": 35,
   "metadata": {},
   "outputs": [
    {
     "output_type": "execute_result",
     "data": {
      "text/plain": [
       "                  id    popularity        budget       revenue       runtime  \\\n",
       "count   10854.000000  10854.000000  1.085400e+04  1.085400e+04  10854.000000   \n",
       "mean    65961.381150      0.646837  1.463634e+07  3.986717e+07    102.106136   \n",
       "std     92022.202764      1.000637  3.092641e+07  1.170607e+08     31.350028   \n",
       "min         5.000000      0.000065  0.000000e+00  0.000000e+00      0.000000   \n",
       "25%     10591.250000      0.207706  0.000000e+00  0.000000e+00     90.000000   \n",
       "50%     20617.000000      0.383960  0.000000e+00  0.000000e+00     99.000000   \n",
       "75%     75417.750000      0.714554  1.500000e+07  2.404763e+07    111.000000   \n",
       "max    417859.000000     32.985763  4.250000e+08  2.781506e+09    900.000000   \n",
       "\n",
       "         vote_count  vote_average  release_year    budget_adj   revenue_adj  \n",
       "count  10854.000000  10854.000000  10854.000000  1.085400e+04  1.085400e+04  \n",
       "mean     217.594067      5.973954   2001.312327  1.756492e+07  5.142097e+07  \n",
       "std      575.903136      0.934600     12.815991  3.432056e+07  1.447024e+08  \n",
       "min       10.000000      1.500000   1960.000000  0.000000e+00  0.000000e+00  \n",
       "25%       17.000000      5.400000   1995.000000  0.000000e+00  0.000000e+00  \n",
       "50%       38.000000      6.000000   2006.000000  0.000000e+00  0.000000e+00  \n",
       "75%      146.000000      6.600000   2011.000000  2.085325e+07  3.374829e+07  \n",
       "max     9767.000000      9.200000   2015.000000  4.250000e+08  2.827124e+09  "
      ],
      "text/html": "<div>\n<style scoped>\n    .dataframe tbody tr th:only-of-type {\n        vertical-align: middle;\n    }\n\n    .dataframe tbody tr th {\n        vertical-align: top;\n    }\n\n    .dataframe thead th {\n        text-align: right;\n    }\n</style>\n<table border=\"1\" class=\"dataframe\">\n  <thead>\n    <tr style=\"text-align: right;\">\n      <th></th>\n      <th>id</th>\n      <th>popularity</th>\n      <th>budget</th>\n      <th>revenue</th>\n      <th>runtime</th>\n      <th>vote_count</th>\n      <th>vote_average</th>\n      <th>release_year</th>\n      <th>budget_adj</th>\n      <th>revenue_adj</th>\n    </tr>\n  </thead>\n  <tbody>\n    <tr>\n      <th>count</th>\n      <td>10854.000000</td>\n      <td>10854.000000</td>\n      <td>1.085400e+04</td>\n      <td>1.085400e+04</td>\n      <td>10854.000000</td>\n      <td>10854.000000</td>\n      <td>10854.000000</td>\n      <td>10854.000000</td>\n      <td>1.085400e+04</td>\n      <td>1.085400e+04</td>\n    </tr>\n    <tr>\n      <th>mean</th>\n      <td>65961.381150</td>\n      <td>0.646837</td>\n      <td>1.463634e+07</td>\n      <td>3.986717e+07</td>\n      <td>102.106136</td>\n      <td>217.594067</td>\n      <td>5.973954</td>\n      <td>2001.312327</td>\n      <td>1.756492e+07</td>\n      <td>5.142097e+07</td>\n    </tr>\n    <tr>\n      <th>std</th>\n      <td>92022.202764</td>\n      <td>1.000637</td>\n      <td>3.092641e+07</td>\n      <td>1.170607e+08</td>\n      <td>31.350028</td>\n      <td>575.903136</td>\n      <td>0.934600</td>\n      <td>12.815991</td>\n      <td>3.432056e+07</td>\n      <td>1.447024e+08</td>\n    </tr>\n    <tr>\n      <th>min</th>\n      <td>5.000000</td>\n      <td>0.000065</td>\n      <td>0.000000e+00</td>\n      <td>0.000000e+00</td>\n      <td>0.000000</td>\n      <td>10.000000</td>\n      <td>1.500000</td>\n      <td>1960.000000</td>\n      <td>0.000000e+00</td>\n      <td>0.000000e+00</td>\n    </tr>\n    <tr>\n      <th>25%</th>\n      <td>10591.250000</td>\n      <td>0.207706</td>\n      <td>0.000000e+00</td>\n      <td>0.000000e+00</td>\n      <td>90.000000</td>\n      <td>17.000000</td>\n      <td>5.400000</td>\n      <td>1995.000000</td>\n      <td>0.000000e+00</td>\n      <td>0.000000e+00</td>\n    </tr>\n    <tr>\n      <th>50%</th>\n      <td>20617.000000</td>\n      <td>0.383960</td>\n      <td>0.000000e+00</td>\n      <td>0.000000e+00</td>\n      <td>99.000000</td>\n      <td>38.000000</td>\n      <td>6.000000</td>\n      <td>2006.000000</td>\n      <td>0.000000e+00</td>\n      <td>0.000000e+00</td>\n    </tr>\n    <tr>\n      <th>75%</th>\n      <td>75417.750000</td>\n      <td>0.714554</td>\n      <td>1.500000e+07</td>\n      <td>2.404763e+07</td>\n      <td>111.000000</td>\n      <td>146.000000</td>\n      <td>6.600000</td>\n      <td>2011.000000</td>\n      <td>2.085325e+07</td>\n      <td>3.374829e+07</td>\n    </tr>\n    <tr>\n      <th>max</th>\n      <td>417859.000000</td>\n      <td>32.985763</td>\n      <td>4.250000e+08</td>\n      <td>2.781506e+09</td>\n      <td>900.000000</td>\n      <td>9767.000000</td>\n      <td>9.200000</td>\n      <td>2015.000000</td>\n      <td>4.250000e+08</td>\n      <td>2.827124e+09</td>\n    </tr>\n  </tbody>\n</table>\n</div>"
     },
     "metadata": {},
     "execution_count": 35
    }
   ],
   "source": [
    "df_clean.describe()"
   ]
  },
  {
   "source": [
    "# 7. Analyze the cleaned dataset"
   ],
   "cell_type": "markdown",
   "metadata": {}
  },
  {
   "source": [
    "### Find Avg. rating for each movie"
   ],
   "cell_type": "markdown",
   "metadata": {}
  },
  {
   "cell_type": "code",
   "execution_count": null,
   "metadata": {},
   "outputs": [],
   "source": [
    "Mean_count = New.groupby('budget').mean().reset_index()"
   ]
  },
  {
   "cell_type": "code",
   "execution_count": 40,
   "metadata": {},
   "outputs": [
    {
     "output_type": "execute_result",
     "data": {
      "text/plain": [
       "         imdb_id  popularity\n",
       "0      tt0369610   32.985763\n",
       "1      tt1392190   28.419936\n",
       "2      tt2908446   13.112507\n",
       "3      tt2488496   11.173104\n",
       "4      tt2820852    9.335014\n",
       "5      tt1663202    9.110700\n",
       "6      tt1340138    8.654359\n",
       "7      tt3659388    7.667400\n",
       "8      tt2293640    7.404165\n",
       "9      tt2096673    6.326804\n",
       "10     tt2379713    6.200282\n",
       "11     tt1617661    6.189369\n",
       "12     tt0470752    6.118847\n",
       "13     tt2120120    5.984995\n",
       "14     tt2395427    5.944927\n",
       "15     tt3460252    5.898400\n",
       "16     tt2446042    5.749758\n",
       "17     tt0478970    5.573184\n",
       "18     tt1661199    5.556818\n",
       "19     tt1951266    5.476958\n",
       "20     tt1964418    5.462138\n",
       "21     tt1798684    5.337064\n",
       "22     tt2126355    4.907832\n",
       "23     tt2322441    4.710402\n",
       "24     tt1596363    4.648046\n",
       "25     tt2381249    4.566713\n",
       "26     tt2637276    4.564549\n",
       "27     tt2802144    4.503789\n",
       "28     tt1895587    4.062293\n",
       "29     tt4046784    3.968891\n",
       "...          ...         ...\n",
       "10836  tt0061170    0.239435\n",
       "10837  tt0060177    0.291704\n",
       "10838  tt0060862    0.151845\n",
       "10839  tt0060550    0.276133\n",
       "10840  tt0060437    0.102530\n",
       "10841  tt0062262    0.264925\n",
       "10842  tt0061199    0.253437\n",
       "10843  tt0060588    0.252399\n",
       "10844  tt0059557    0.236098\n",
       "10845  tt0059014    0.230873\n",
       "10846  tt0059127    0.212716\n",
       "10847  tt0060548    0.034555\n",
       "10848  tt0060397    0.207257\n",
       "10849  tt0060445    0.206537\n",
       "10850  tt0060490    0.202473\n",
       "10851  tt0060182    0.342791\n",
       "10852  tt0060165    0.227220\n",
       "10853  tt0060086    0.163592\n",
       "10854  tt0060232    0.146402\n",
       "10855  tt0059221    0.141026\n",
       "10856  tt0061135    0.140934\n",
       "10857  tt0060748    0.131378\n",
       "10858  tt0060921    0.317824\n",
       "10859  tt0060955    0.089072\n",
       "10860  tt0060214    0.087034\n",
       "10861  tt0060371    0.080598\n",
       "10862  tt0060472    0.065543\n",
       "10863  tt0060161    0.065141\n",
       "10864  tt0061177    0.064317\n",
       "10865  tt0060666    0.035919\n",
       "\n",
       "[10854 rows x 2 columns]"
      ],
      "text/html": "<div>\n<style scoped>\n    .dataframe tbody tr th:only-of-type {\n        vertical-align: middle;\n    }\n\n    .dataframe tbody tr th {\n        vertical-align: top;\n    }\n\n    .dataframe thead th {\n        text-align: right;\n    }\n</style>\n<table border=\"1\" class=\"dataframe\">\n  <thead>\n    <tr style=\"text-align: right;\">\n      <th></th>\n      <th>imdb_id</th>\n      <th>popularity</th>\n    </tr>\n  </thead>\n  <tbody>\n    <tr>\n      <th>0</th>\n      <td>tt0369610</td>\n      <td>32.985763</td>\n    </tr>\n    <tr>\n      <th>1</th>\n      <td>tt1392190</td>\n      <td>28.419936</td>\n    </tr>\n    <tr>\n      <th>2</th>\n      <td>tt2908446</td>\n      <td>13.112507</td>\n    </tr>\n    <tr>\n      <th>3</th>\n      <td>tt2488496</td>\n      <td>11.173104</td>\n    </tr>\n    <tr>\n      <th>4</th>\n      <td>tt2820852</td>\n      <td>9.335014</td>\n    </tr>\n    <tr>\n      <th>5</th>\n      <td>tt1663202</td>\n      <td>9.110700</td>\n    </tr>\n    <tr>\n      <th>6</th>\n      <td>tt1340138</td>\n      <td>8.654359</td>\n    </tr>\n    <tr>\n      <th>7</th>\n      <td>tt3659388</td>\n      <td>7.667400</td>\n    </tr>\n    <tr>\n      <th>8</th>\n      <td>tt2293640</td>\n      <td>7.404165</td>\n    </tr>\n    <tr>\n      <th>9</th>\n      <td>tt2096673</td>\n      <td>6.326804</td>\n    </tr>\n    <tr>\n      <th>10</th>\n      <td>tt2379713</td>\n      <td>6.200282</td>\n    </tr>\n    <tr>\n      <th>11</th>\n      <td>tt1617661</td>\n      <td>6.189369</td>\n    </tr>\n    <tr>\n      <th>12</th>\n      <td>tt0470752</td>\n      <td>6.118847</td>\n    </tr>\n    <tr>\n      <th>13</th>\n      <td>tt2120120</td>\n      <td>5.984995</td>\n    </tr>\n    <tr>\n      <th>14</th>\n      <td>tt2395427</td>\n      <td>5.944927</td>\n    </tr>\n    <tr>\n      <th>15</th>\n      <td>tt3460252</td>\n      <td>5.898400</td>\n    </tr>\n    <tr>\n      <th>16</th>\n      <td>tt2446042</td>\n      <td>5.749758</td>\n    </tr>\n    <tr>\n      <th>17</th>\n      <td>tt0478970</td>\n      <td>5.573184</td>\n    </tr>\n    <tr>\n      <th>18</th>\n      <td>tt1661199</td>\n      <td>5.556818</td>\n    </tr>\n    <tr>\n      <th>19</th>\n      <td>tt1951266</td>\n      <td>5.476958</td>\n    </tr>\n    <tr>\n      <th>20</th>\n      <td>tt1964418</td>\n      <td>5.462138</td>\n    </tr>\n    <tr>\n      <th>21</th>\n      <td>tt1798684</td>\n      <td>5.337064</td>\n    </tr>\n    <tr>\n      <th>22</th>\n      <td>tt2126355</td>\n      <td>4.907832</td>\n    </tr>\n    <tr>\n      <th>23</th>\n      <td>tt2322441</td>\n      <td>4.710402</td>\n    </tr>\n    <tr>\n      <th>24</th>\n      <td>tt1596363</td>\n      <td>4.648046</td>\n    </tr>\n    <tr>\n      <th>25</th>\n      <td>tt2381249</td>\n      <td>4.566713</td>\n    </tr>\n    <tr>\n      <th>26</th>\n      <td>tt2637276</td>\n      <td>4.564549</td>\n    </tr>\n    <tr>\n      <th>27</th>\n      <td>tt2802144</td>\n      <td>4.503789</td>\n    </tr>\n    <tr>\n      <th>28</th>\n      <td>tt1895587</td>\n      <td>4.062293</td>\n    </tr>\n    <tr>\n      <th>29</th>\n      <td>tt4046784</td>\n      <td>3.968891</td>\n    </tr>\n    <tr>\n      <th>...</th>\n      <td>...</td>\n      <td>...</td>\n    </tr>\n    <tr>\n      <th>10836</th>\n      <td>tt0061170</td>\n      <td>0.239435</td>\n    </tr>\n    <tr>\n      <th>10837</th>\n      <td>tt0060177</td>\n      <td>0.291704</td>\n    </tr>\n    <tr>\n      <th>10838</th>\n      <td>tt0060862</td>\n      <td>0.151845</td>\n    </tr>\n    <tr>\n      <th>10839</th>\n      <td>tt0060550</td>\n      <td>0.276133</td>\n    </tr>\n    <tr>\n      <th>10840</th>\n      <td>tt0060437</td>\n      <td>0.102530</td>\n    </tr>\n    <tr>\n      <th>10841</th>\n      <td>tt0062262</td>\n      <td>0.264925</td>\n    </tr>\n    <tr>\n      <th>10842</th>\n      <td>tt0061199</td>\n      <td>0.253437</td>\n    </tr>\n    <tr>\n      <th>10843</th>\n      <td>tt0060588</td>\n      <td>0.252399</td>\n    </tr>\n    <tr>\n      <th>10844</th>\n      <td>tt0059557</td>\n      <td>0.236098</td>\n    </tr>\n    <tr>\n      <th>10845</th>\n      <td>tt0059014</td>\n      <td>0.230873</td>\n    </tr>\n    <tr>\n      <th>10846</th>\n      <td>tt0059127</td>\n      <td>0.212716</td>\n    </tr>\n    <tr>\n      <th>10847</th>\n      <td>tt0060548</td>\n      <td>0.034555</td>\n    </tr>\n    <tr>\n      <th>10848</th>\n      <td>tt0060397</td>\n      <td>0.207257</td>\n    </tr>\n    <tr>\n      <th>10849</th>\n      <td>tt0060445</td>\n      <td>0.206537</td>\n    </tr>\n    <tr>\n      <th>10850</th>\n      <td>tt0060490</td>\n      <td>0.202473</td>\n    </tr>\n    <tr>\n      <th>10851</th>\n      <td>tt0060182</td>\n      <td>0.342791</td>\n    </tr>\n    <tr>\n      <th>10852</th>\n      <td>tt0060165</td>\n      <td>0.227220</td>\n    </tr>\n    <tr>\n      <th>10853</th>\n      <td>tt0060086</td>\n      <td>0.163592</td>\n    </tr>\n    <tr>\n      <th>10854</th>\n      <td>tt0060232</td>\n      <td>0.146402</td>\n    </tr>\n    <tr>\n      <th>10855</th>\n      <td>tt0059221</td>\n      <td>0.141026</td>\n    </tr>\n    <tr>\n      <th>10856</th>\n      <td>tt0061135</td>\n      <td>0.140934</td>\n    </tr>\n    <tr>\n      <th>10857</th>\n      <td>tt0060748</td>\n      <td>0.131378</td>\n    </tr>\n    <tr>\n      <th>10858</th>\n      <td>tt0060921</td>\n      <td>0.317824</td>\n    </tr>\n    <tr>\n      <th>10859</th>\n      <td>tt0060955</td>\n      <td>0.089072</td>\n    </tr>\n    <tr>\n      <th>10860</th>\n      <td>tt0060214</td>\n      <td>0.087034</td>\n    </tr>\n    <tr>\n      <th>10861</th>\n      <td>tt0060371</td>\n      <td>0.080598</td>\n    </tr>\n    <tr>\n      <th>10862</th>\n      <td>tt0060472</td>\n      <td>0.065543</td>\n    </tr>\n    <tr>\n      <th>10863</th>\n      <td>tt0060161</td>\n      <td>0.065141</td>\n    </tr>\n    <tr>\n      <th>10864</th>\n      <td>tt0061177</td>\n      <td>0.064317</td>\n    </tr>\n    <tr>\n      <th>10865</th>\n      <td>tt0060666</td>\n      <td>0.035919</td>\n    </tr>\n  </tbody>\n</table>\n<p>10854 rows × 2 columns</p>\n</div>"
     },
     "metadata": {},
     "execution_count": 40
    }
   ],
   "source": [
    "df_clean[[\"imdb_id\", \"popularity\"]]"
   ]
  },
  {
   "cell_type": "code",
   "execution_count": null,
   "metadata": {},
   "outputs": [],
   "source": [
    "Mean_count['revenue'].describe()[['mean','std','min','25%','50%','75%','max']].plot(kind='bar')"
   ]
  }
 ]
}